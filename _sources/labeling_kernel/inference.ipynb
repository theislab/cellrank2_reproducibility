{
 "cells": [
  {
   "cell_type": "markdown",
   "id": "46d6203c",
   "metadata": {},
   "source": [
    "# Intestinal organoid differentiation - Parameter inference\n",
    "\n",
    "Estimation of transcription and degradation rate excluding the Tuft cell cluster in the scEU-seq organoid data."
   ]
  },
  {
   "cell_type": "code",
   "execution_count": null,
   "id": "a1793a3f-c72e-4e62-8d12-180be0d0bfa5",
   "metadata": {},
   "outputs": [],
   "source": [
    "%load_ext autoreload\n",
    "%autoreload 2"
   ]
  },
  {
   "cell_type": "markdown",
   "id": "8e723a08-3492-438d-9fd2-560876e9bbd8",
   "metadata": {},
   "source": [
    "## Library imports"
   ]
  },
  {
   "cell_type": "code",
   "execution_count": null,
   "id": "d2be5ed5-77fc-4109-b299-7e379c41811c",
   "metadata": {},
   "outputs": [],
   "source": [
    "import os\n",
    "import sys\n",
    "\n",
    "from scipy.sparse import csr_matrix\n",
    "\n",
    "import scanpy as sc\n",
    "import scvelo as scv\n",
    "from scvelo.inference import (\n",
    "    get_labeling_time_mask,\n",
    "    get_labeling_times,\n",
    "    get_n_neighbors,\n",
    "    get_obs_dist_argsort,\n",
    "    get_parameters,\n",
    ")\n",
    "\n",
    "from cr2 import running_in_notebook\n",
    "\n",
    "sys.path.extend([\"../../\", \".\"])\n",
    "from paths import DATA_DIR  # isort: skip  # noqa: E402"
   ]
  },
  {
   "cell_type": "markdown",
   "id": "de031818-29bd-409f-ade3-5701d762f9c0",
   "metadata": {},
   "source": [
    "## General settings"
   ]
  },
  {
   "cell_type": "code",
   "execution_count": null,
   "id": "8238e664-ac3e-4637-b337-39439062040f",
   "metadata": {},
   "outputs": [],
   "source": [
    "sc.settings.verbosity = 3\n",
    "scv.settings.verbosity = 3"
   ]
  },
  {
   "cell_type": "code",
   "execution_count": null,
   "id": "58a3e22b-54d9-4319-a119-0514bc25ccfb",
   "metadata": {},
   "outputs": [],
   "source": [
    "scv.settings.set_figure_params(\"scvelo\")"
   ]
  },
  {
   "cell_type": "code",
   "execution_count": null,
   "id": "d2c8a6d9",
   "metadata": {},
   "outputs": [],
   "source": [
    "os.makedirs(DATA_DIR / \"sceu_organoid\" / \"results\", exist_ok=True)"
   ]
  },
  {
   "cell_type": "code",
   "execution_count": null,
   "id": "38a1cbee-6cd4-468d-8d63-4acd04d7670c",
   "metadata": {},
   "outputs": [],
   "source": [
    "N_JOBS = 8"
   ]
  },
  {
   "cell_type": "markdown",
   "id": "937c9cbb",
   "metadata": {},
   "source": [
    "## Data loading"
   ]
  },
  {
   "cell_type": "code",
   "execution_count": null,
   "id": "8985a0ea-0929-4cdb-af19-fe1f520ad64e",
   "metadata": {},
   "outputs": [],
   "source": [
    "adata = sc.read(DATA_DIR / \"sceu_organoid\" / \"processed\" / \"preprocessed.h5ad\")\n",
    "adata"
   ]
  },
  {
   "cell_type": "markdown",
   "id": "fbe06c2c-5fee-4820-b815-f6a36cb1a5c1",
   "metadata": {},
   "source": [
    "## Data preprocessing"
   ]
  },
  {
   "cell_type": "code",
   "execution_count": null,
   "id": "a61fb239-e9a3-497e-b79f-8ea1a5432a98",
   "metadata": {},
   "outputs": [],
   "source": [
    "adata.layers[\"labeled_smoothed\"] = csr_matrix.dot(adata.obsp[\"connectivities\"], adata.layers[\"labeled\"]).A\n",
    "adata.layers[\"unlabeled_smoothed\"] = csr_matrix.dot(adata.obsp[\"connectivities\"], adata.layers[\"unlabeled\"]).A\n",
    "adata.layers[\"total_smoothed\"] = csr_matrix.dot(adata.obsp[\"connectivities\"], adata.layers[\"total\"]).A"
   ]
  },
  {
   "cell_type": "code",
   "execution_count": null,
   "id": "e3bdd3bc-40b2-4f1f-96c8-f7463162cb89",
   "metadata": {},
   "outputs": [],
   "source": [
    "if running_in_notebook():\n",
    "    scv.pl.scatter(adata, basis=\"umap\", color=\"cell_type\", legend_loc=\"right\")"
   ]
  },
  {
   "cell_type": "markdown",
   "id": "a9dbfa16-3a99-4a96-87bf-e3ba7c23839a",
   "metadata": {},
   "source": [
    "## Parameter inference"
   ]
  },
  {
   "cell_type": "code",
   "execution_count": null,
   "id": "878a9b14-b51d-4900-8866-d63711ea16ac",
   "metadata": {},
   "outputs": [],
   "source": [
    "time_key = \"labeling_time\"\n",
    "labeling_times = get_labeling_times(adata=adata, time_key=\"labeling_time\")\n",
    "\n",
    "labeling_time_mask = get_labeling_time_mask(adata=adata, time_key=time_key, labeling_times=labeling_times)\n",
    "\n",
    "obs_dist_argsort = get_obs_dist_argsort(adata=adata, labeling_time_mask=labeling_time_mask)"
   ]
  },
  {
   "cell_type": "code",
   "execution_count": null,
   "id": "52a4fc04-58e3-44e9-bc34-6c349ed3b8e9",
   "metadata": {},
   "outputs": [],
   "source": [
    "n_neighbors = get_n_neighbors(\n",
    "    adata,\n",
    "    labeling_time_mask=labeling_time_mask,\n",
    "    obs_dist_argsort=obs_dist_argsort,\n",
    "    n_nontrivial_counts=20,\n",
    "    use_rep=\"labeled_smoothed\",\n",
    "    n_jobs=N_JOBS,\n",
    ")"
   ]
  },
  {
   "cell_type": "code",
   "execution_count": null,
   "id": "f5826019-9a5b-4f4f-bb5c-e86e957c6658",
   "metadata": {},
   "outputs": [],
   "source": [
    "alpha, gamma, r0, success, opt_res = get_parameters(\n",
    "    adata=adata,\n",
    "    use_rep=\"labeled_smoothed\",\n",
    "    time_key=\"labeling_time\",\n",
    "    experiment_key=\"experiment\",\n",
    "    n_neighbors=n_neighbors,\n",
    "    x0=None,\n",
    "    n_jobs=N_JOBS,\n",
    ")\n",
    "\n",
    "alpha.to_csv(DATA_DIR / \"sceu_organoid\" / \"results\" / \"alpha.csv\")\n",
    "gamma.to_csv(DATA_DIR / \"sceu_organoid\" / \"results\" / \"gamma.csv\")\n",
    "r0.to_csv(DATA_DIR / \"sceu_organoid\" / \"results\" / \"r0.csv\")\n",
    "success.to_csv(DATA_DIR / \"sceu_organoid\" / \"results\" / \"success.csv\")"
   ]
  }
 ],
 "metadata": {
  "interpreter": {
   "hash": "3cec8e0e0e87faca5673079962e89c7d20f587d52851f01215c0f1cefff12d80"
  },
  "kernelspec": {
   "display_name": "cr2-py38",
   "language": "python",
   "name": "cr2-py38"
  },
  "language_info": {
   "codemirror_mode": {
    "name": "ipython",
    "version": 3
   },
   "file_extension": ".py",
   "mimetype": "text/x-python",
   "name": "python",
   "nbconvert_exporter": "python",
   "pygments_lexer": "ipython3",
   "version": "3.8.16"
  }
 },
 "nbformat": 4,
 "nbformat_minor": 5
}

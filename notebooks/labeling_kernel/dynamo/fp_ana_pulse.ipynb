{
 "cells": [
  {
   "attachments": {},
   "cell_type": "markdown",
   "metadata": {},
   "source": [
    "# Fixed point analysis - Pulse experiment\n",
    "\n",
    "Dynamo's fixed-point-based analysis of scEU-seq organoid data using only the pulse experiment."
   ]
  },
  {
   "attachments": {},
   "cell_type": "markdown",
   "metadata": {},
   "source": [
    "## Library imports"
   ]
  },
  {
   "cell_type": "code",
   "execution_count": 1,
   "metadata": {},
   "outputs": [
    {
     "name": "stdout",
     "output_type": "stream",
     "text": [
      "|-----> setting visualization default mode in dynamo. Your customized matplotlib settings might be overritten.\n"
     ]
    },
    {
     "name": "stderr",
     "output_type": "stream",
     "text": [
      "/vol/storage/miniconda3/envs/dynamo-py39/lib/python3.9/site-packages/nxviz/__init__.py:18: UserWarning: \n",
      "nxviz has a new API! Version 0.7.3 onwards, the old class-based API is being\n",
      "deprecated in favour of a new API focused on advancing a grammar of network\n",
      "graphics. If your plotting code depends on the old API, please consider\n",
      "pinning nxviz at version 0.7.3, as the new API will break your old code.\n",
      "\n",
      "To check out the new API, please head over to the docs at\n",
      "https://ericmjl.github.io/nxviz/ to learn more. We hope you enjoy using it!\n",
      "\n",
      "(This deprecation message will go away in version 1.0.)\n",
      "\n",
      "  warnings.warn(\n"
     ]
    }
   ],
   "source": [
    "import sys\n",
    "\n",
    "import pandas as pd\n",
    "\n",
    "import dynamo as dyn\n",
    "import scanpy as sc\n",
    "\n",
    "sys.path.extend([\"../../../\", \".\"])\n",
    "from paths import DATA_DIR  # isort: skip  # noqa: E402"
   ]
  },
  {
   "attachments": {},
   "cell_type": "markdown",
   "metadata": {},
   "source": [
    "## General settings"
   ]
  },
  {
   "cell_type": "code",
   "execution_count": 2,
   "metadata": {},
   "outputs": [],
   "source": [
    "sc.settings.verbosity = 3"
   ]
  },
  {
   "attachments": {},
   "cell_type": "markdown",
   "metadata": {},
   "source": [
    "## Data loading"
   ]
  },
  {
   "cell_type": "code",
   "execution_count": 3,
   "metadata": {},
   "outputs": [
    {
     "data": {
      "text/plain": [
       "AnnData object with n_obs × n_vars = 1368 × 968\n",
       "    obs: 'experiment', 'time', 'cell_type', 'well_id', 'batch_id', 'log10_gfp', 'som_cluster_id', 'monocle_branch_id', 'monocle_pseudotime', 'cell_type_merged', 'initial_size', 'n_counts', 'pass_basic_filter', 'ntr'\n",
       "    var: 'ensum_id', 'gene_count_corr', 'means', 'dispersions', 'dispersions_norm', 'highly_variable', 'pass_basic_filter', 'use_for_pca', 'ntr', 'alpha', 'beta', 'gamma', 'half_life', 'alpha_b', 'alpha_r2', 'gamma_b', 'gamma_r2', 'gamma_logLL', 'delta_b', 'delta_r2', 'bs', 'bf', 'uu0', 'ul0', 'su0', 'sl0', 'U0', 'S0', 'total0', 'beta_k', 'gamma_k', 'use_for_dynamics'\n",
       "    uns: 'PCs', 'cell_type_colors', 'dynamics', 'neighbors', 'pca', 'pca_fit', 'pca_mean', 'pp', 'umap'\n",
       "    obsm: 'X_pca', 'X_umap', 'X_umap_paper'\n",
       "    varm: 'PCs', 'alpha'\n",
       "    layers: 'M_n', 'M_nn', 'M_t', 'M_tn', 'M_tt', 'X_new', 'X_total', 'new', 'total', 'velocity_N', 'velocity_T'\n",
       "    obsp: 'connectivities', 'distances', 'moments_con'"
      ]
     },
     "execution_count": 3,
     "metadata": {},
     "output_type": "execute_result"
    }
   ],
   "source": [
    "adata = sc.read(DATA_DIR / \"sceu_organoid\" / \"processed\" / \"adata_dynamo-pulse-1000features.h5ad\")\n",
    "adata"
   ]
  },
  {
   "attachments": {},
   "cell_type": "markdown",
   "metadata": {},
   "source": [
    "## Preprocessing"
   ]
  },
  {
   "cell_type": "code",
   "execution_count": 4,
   "metadata": {},
   "outputs": [
    {
     "name": "stdout",
     "output_type": "stream",
     "text": [
      "|-----> retrive data for non-linear dimension reduction...\n",
      "|-----> perform umap...\n",
      "|-----> [dimension_reduction projection] in progress: 100.0000%\n",
      "|-----> [dimension_reduction projection] finished [12.2716s]\n"
     ]
    }
   ],
   "source": [
    "dyn.tl.reduceDimension(adata, layer=\"X_new\", enforce=True)"
   ]
  },
  {
   "attachments": {},
   "cell_type": "markdown",
   "metadata": {},
   "source": [
    "## Fixed point analysis"
   ]
  },
  {
   "attachments": {},
   "cell_type": "markdown",
   "metadata": {},
   "source": [
    "### Velocity with total RNA"
   ]
  },
  {
   "cell_type": "code",
   "execution_count": 5,
   "metadata": {},
   "outputs": [
    {
     "name": "stdout",
     "output_type": "stream",
     "text": [
      "|-----> 0 genes are removed because of nan velocity values.\n",
      "|-----> [calculating transition matrix via pearson kernel with sqrt transform.] in progress: 100.0000%\n",
      "|-----> [calculating transition matrix via pearson kernel with sqrt transform.] finished [2.3185s]\n",
      "|-----> [projecting velocity vector to low dimensional embedding] in progress: 100.0000%\n",
      "|-----> [projecting velocity vector to low dimensional embedding] finished [0.4058s]\n",
      "|-----> VectorField reconstruction begins...\n",
      "|-----> Retrieve X and V based on basis: UMAP. \n",
      "        Vector field will be learned in the UMAP space.\n",
      "|-----> Generating high dimensional grids and convert into a row matrix.\n",
      "|-----> Learning vector field with method: sparsevfc.\n",
      "|-----> [SparseVFC] begins...\n",
      "|-----> Sampling control points based on data velocity magnitude...\n",
      "|-----> [SparseVFC] in progress: 100.0000%\n",
      "|-----> [SparseVFC] finished [0.0972s]\n",
      "|-----------> current cosine correlation between input velocities and learned velocities is less than 0.6. Make a 1-th vector field reconstruction trial.\n",
      "|-----> [SparseVFC] begins...\n",
      "|-----> Sampling control points based on data velocity magnitude...\n",
      "|-----> [SparseVFC] in progress: 100.0000%\n",
      "|-----> [SparseVFC] finished [0.1051s]\n",
      "|-----------> current cosine correlation between input velocities and learned velocities is less than 0.6. Make a 2-th vector field reconstruction trial.\n",
      "|-----> [SparseVFC] begins...\n",
      "|-----> Sampling control points based on data velocity magnitude...\n",
      "|-----> [SparseVFC] in progress: 100.0000%\n",
      "|-----> [SparseVFC] finished [0.0995s]\n",
      "|-----------> current cosine correlation between input velocities and learned velocities is less than 0.6. Make a 3-th vector field reconstruction trial.\n",
      "|-----> [SparseVFC] begins...\n",
      "|-----> Sampling control points based on data velocity magnitude...\n",
      "|-----> [SparseVFC] in progress: 100.0000%\n",
      "|-----> [SparseVFC] finished [0.1099s]\n",
      "|-----------> current cosine correlation between input velocities and learned velocities is less than 0.6. Make a 4-th vector field reconstruction trial.\n",
      "|-----> [SparseVFC] begins...\n",
      "|-----> Sampling control points based on data velocity magnitude...\n",
      "|-----> [SparseVFC] in progress: 100.0000%\n",
      "|-----> [SparseVFC] finished [0.0981s]\n",
      "|-----------> current cosine correlation between input velocities and learned velocities is less than 0.6. Make a 5-th vector field reconstruction trial.\n",
      "|-----? Cosine correlation between input velocities and learned velocities is less than 0.6 after 5 trials of vector field reconstruction.\n",
      "|-----> <insert> velocity_umap_SparseVFC to obsm in AnnData Object.\n",
      "|-----> <insert> X_umap_SparseVFC to obsm in AnnData Object.\n",
      "|-----> <insert> VecFld_umap to uns in AnnData Object.\n",
      "|-----> <insert> control_point_umap to obs in AnnData Object.\n",
      "|-----> <insert> inlier_prob_umap to obs in AnnData Object.\n",
      "|-----> <insert> obs_vf_angle_umap to obs in AnnData Object.\n",
      "|-----> [VectorField] in progress: 100.0000%\n",
      "|-----> [VectorField] finished [0.5821s]\n"
     ]
    },
    {
     "name": "stderr",
     "output_type": "stream",
     "text": [
      "/vol/storage/miniconda3/envs/dynamo-py39/lib/python3.9/site-packages/scipy/optimize/_minpack_py.py:178: RuntimeWarning: The iteration is not making good progress, as measured by the \n",
      "  improvement from the last ten iterations.\n",
      "  warnings.warn(msg, RuntimeWarning)\n",
      "/vol/storage/miniconda3/envs/dynamo-py39/lib/python3.9/site-packages/scipy/optimize/_minpack_py.py:178: RuntimeWarning: The iteration is not making good progress, as measured by the \n",
      "  improvement from the last five Jacobian evaluations.\n",
      "  warnings.warn(msg, RuntimeWarning)\n"
     ]
    },
    {
     "data": {
      "text/plain": [
       "AnnData object with n_obs × n_vars = 1368 × 968\n",
       "    obs: 'experiment', 'time', 'cell_type', 'well_id', 'batch_id', 'log10_gfp', 'som_cluster_id', 'monocle_branch_id', 'monocle_pseudotime', 'cell_type_merged', 'initial_size', 'n_counts', 'pass_basic_filter', 'ntr', 'control_point_umap', 'inlier_prob_umap', 'obs_vf_angle_umap'\n",
       "    var: 'ensum_id', 'gene_count_corr', 'means', 'dispersions', 'dispersions_norm', 'highly_variable', 'pass_basic_filter', 'use_for_pca', 'ntr', 'alpha', 'beta', 'gamma', 'half_life', 'alpha_b', 'alpha_r2', 'gamma_b', 'gamma_r2', 'gamma_logLL', 'delta_b', 'delta_r2', 'bs', 'bf', 'uu0', 'ul0', 'su0', 'sl0', 'U0', 'S0', 'total0', 'beta_k', 'gamma_k', 'use_for_dynamics', 'use_for_transition'\n",
       "    uns: 'PCs', 'cell_type_colors', 'dynamics', 'neighbors', 'pca', 'pca_fit', 'pca_mean', 'pp', 'umap', 'explained_variance_ratio_', 'pca_valid_ind', 'X_new_neighbors', 'umap_fit', 'grid_velocity_umap', 'VecFld_umap'\n",
       "    obsm: 'X_pca', 'X_umap', 'X_umap_paper', 'X_new_pca', 'X_new_umap', 'velocity_umap', 'velocity_umap_SparseVFC', 'X_umap_SparseVFC'\n",
       "    varm: 'PCs', 'alpha'\n",
       "    layers: 'M_n', 'M_nn', 'M_t', 'M_tn', 'M_tt', 'X_new', 'X_total', 'new', 'total', 'velocity_N', 'velocity_T'\n",
       "    obsp: 'connectivities', 'distances', 'moments_con', 'pearson_transition_matrix'"
      ]
     },
     "execution_count": 5,
     "metadata": {},
     "output_type": "execute_result"
    }
   ],
   "source": [
    "dyn.tl.cell_velocities(adata, ekey=\"M_t\", vkey=\"velocity_T\", enforce=True)\n",
    "dyn.vf.VectorField(adata, basis=\"umap\")\n",
    "dyn.vf.topography(adata)"
   ]
  },
  {
   "cell_type": "code",
   "execution_count": 6,
   "metadata": {},
   "outputs": [
    {
     "name": "stdout",
     "output_type": "stream",
     "text": [
      "Stable FPs: ['Enterocytes']\n"
     ]
    }
   ],
   "source": [
    "df = pd.DataFrame(adata.uns[\"VecFld_umap\"][\"Xss\"], columns=[\"umap_1\", \"umap_2\"])\n",
    "df[\"fixed_point_type\"] = adata.uns[\"VecFld_umap\"][\"ftype\"]\n",
    "df[\"fixed_point_type\"].replace({-1: \"stable\", 0: \"saddle\", 1: \"unstable\"}, inplace=True)\n",
    "\n",
    "neighbor_idx = dyn.tools.utils.nearest_neighbors(df[[\"umap_1\", \"umap_2\"]], adata.obsm[\"X_umap\"])\n",
    "df[\"cell_type\"] = [\n",
    "    adata.obs.loc[adata.obs_names[neighbors], \"cell_type\"].mode().values[0] for neighbors in neighbor_idx\n",
    "]\n",
    "\n",
    "print(f\"Stable FPs: {df.loc[df['fixed_point_type'] == 'stable', 'cell_type'].unique()}\")"
   ]
  }
 ],
 "metadata": {
  "kernelspec": {
   "display_name": "dynamo-py39",
   "language": "python",
   "name": "dynamo-py39"
  },
  "language_info": {
   "codemirror_mode": {
    "name": "ipython",
    "version": 3
   },
   "file_extension": ".py",
   "mimetype": "text/x-python",
   "name": "python",
   "nbconvert_exporter": "python",
   "pygments_lexer": "ipython3",
   "version": "3.9.16"
  }
 },
 "nbformat": 4,
 "nbformat_minor": 2
}

{
 "cells": [
  {
   "attachments": {},
   "cell_type": "markdown",
   "metadata": {},
   "source": [
    "# Least action path analysis with Dynamo"
   ]
  },
  {
   "attachments": {},
   "cell_type": "markdown",
   "metadata": {},
   "source": [
    "Driver analysis on scEU-seq organoid data using Dynamo's LAP analysis"
   ]
  },
  {
   "cell_type": "code",
   "execution_count": 1,
   "metadata": {},
   "outputs": [
    {
     "name": "stdout",
     "output_type": "stream",
     "text": [
      "|-----> setting visualization default mode in dynamo. Your customized matplotlib settings might be overritten.\n"
     ]
    },
    {
     "name": "stderr",
     "output_type": "stream",
     "text": [
      "/vol/storage/miniconda3/envs/dynamo-py39/lib/python3.9/site-packages/nxviz/__init__.py:18: UserWarning: \n",
      "nxviz has a new API! Version 0.7.3 onwards, the old class-based API is being\n",
      "deprecated in favour of a new API focused on advancing a grammar of network\n",
      "graphics. If your plotting code depends on the old API, please consider\n",
      "pinning nxviz at version 0.7.3, as the new API will break your old code.\n",
      "\n",
      "To check out the new API, please head over to the docs at\n",
      "https://ericmjl.github.io/nxviz/ to learn more. We hope you enjoy using it!\n",
      "\n",
      "(This deprecation message will go away in version 1.0.)\n",
      "\n",
      "  warnings.warn(\n"
     ]
    }
   ],
   "source": [
    "import itertools\n",
    "import sys\n",
    "\n",
    "import numpy as np\n",
    "import pandas as pd\n",
    "\n",
    "import dynamo as dyn\n",
    "import scanpy as sc\n",
    "\n",
    "sys.path.extend([\"../../../\", \".\"])\n",
    "from paths import DATA_DIR  # isort: skip  # noqa: E402"
   ]
  },
  {
   "attachments": {},
   "cell_type": "markdown",
   "metadata": {},
   "source": [
    "## General settings"
   ]
  },
  {
   "cell_type": "code",
   "execution_count": 2,
   "metadata": {},
   "outputs": [],
   "source": [
    "sc.settings.verbosity = 3"
   ]
  },
  {
   "attachments": {},
   "cell_type": "markdown",
   "metadata": {},
   "source": [
    "## Constants"
   ]
  },
  {
   "cell_type": "code",
   "execution_count": 3,
   "metadata": {},
   "outputs": [],
   "source": [
    "TERMINAL_STATES = [\"Enterocytes\", \"Enteroendocrine progenitors\", \"Goblet cells\", \"Paneth cells\"]"
   ]
  },
  {
   "attachments": {},
   "cell_type": "markdown",
   "metadata": {},
   "source": [
    "## Data loading"
   ]
  },
  {
   "cell_type": "code",
   "execution_count": 4,
   "metadata": {},
   "outputs": [
    {
     "data": {
      "text/plain": [
       "AnnData object with n_obs × n_vars = 3452 × 2000\n",
       "    obs: 'experiment', 'time', 'cell_type', 'som_cluster_id', 'cell_type_merged', 'initial_size', 'n_counts', 'pass_basic_filter', 'ntr'\n",
       "    var: 'ensum_id', 'gene_count_corr', 'means', 'dispersions', 'dispersions_norm', 'highly_variable', 'pass_basic_filter', 'use_for_pca', 'ntr', 'alpha', 'a', 'b', 'alpha_a', 'alpha_i', 'beta', 'p_half_life', 'gamma', 'half_life', 'cost', 'logLL', 'use_for_dynamics'\n",
       "    uns: 'PCs', 'cell_type_colors', 'dynamics', 'neighbors', 'pca', 'pca_fit', 'pca_mean', 'pp', 'umap'\n",
       "    obsm: 'X_pca', 'X_umap', 'X_umap_paper'\n",
       "    varm: 'PCs'\n",
       "    layers: 'M_n', 'M_nn', 'M_t', 'M_tn', 'M_tt', 'X_new', 'X_total', 'new', 'total', 'velocity_N', 'velocity_T'\n",
       "    obsp: 'connectivities', 'distances', 'moments_con'"
      ]
     },
     "execution_count": 4,
     "metadata": {},
     "output_type": "execute_result"
    }
   ],
   "source": [
    "adata = sc.read(DATA_DIR / \"sceu_organoid\" / \"processed\" / \"adata_dynamo-chase_and_pulse-2000features.h5ad\")\n",
    "adata"
   ]
  },
  {
   "cell_type": "code",
   "execution_count": 5,
   "metadata": {},
   "outputs": [],
   "source": [
    "goblet_markers = (\n",
    "    pd.read_csv(DATA_DIR / \"sceu_organoid\" / \"processed\" / \"goblet_markers.csv\")[\"Gene\"].str.lower().tolist()\n",
    ")\n",
    "\n",
    "goblet_markers = adata.var_names[adata.var_names.str.lower().isin(goblet_markers)]"
   ]
  },
  {
   "cell_type": "code",
   "execution_count": 6,
   "metadata": {},
   "outputs": [],
   "source": [
    "goblet_regulators = (\n",
    "    pd.read_csv(DATA_DIR / \"sceu_organoid\" / \"processed\" / \"goblet_regulators.csv\")[\"Gene\"].str.lower().tolist()\n",
    ")\n",
    "\n",
    "goblet_regulators = adata.var_names[adata.var_names.str.lower().isin(goblet_regulators)]"
   ]
  },
  {
   "cell_type": "code",
   "execution_count": 7,
   "metadata": {},
   "outputs": [],
   "source": [
    "goblet_and_paneth_regulators = (\n",
    "    pd.read_csv(DATA_DIR / \"sceu_organoid\" / \"processed\" / \"goblet_and_paneth_regulators.csv\")[\"Gene\"]\n",
    "    .str.lower()\n",
    "    .tolist()\n",
    ")\n",
    "\n",
    "goblet_and_paneth_regulators = adata.var_names[adata.var_names.str.lower().isin(goblet_and_paneth_regulators)]"
   ]
  },
  {
   "cell_type": "code",
   "execution_count": 8,
   "metadata": {},
   "outputs": [],
   "source": [
    "paneth_markers = (\n",
    "    pd.read_csv(DATA_DIR / \"sceu_organoid\" / \"processed\" / \"paneth_markers.csv\")[\"Gene\"].str.lower().tolist()\n",
    ")\n",
    "\n",
    "paneth_markers = adata.var_names[adata.var_names.str.lower().isin(paneth_markers)]"
   ]
  },
  {
   "cell_type": "code",
   "execution_count": 9,
   "metadata": {},
   "outputs": [],
   "source": [
    "eec_markers = pd.read_csv(DATA_DIR / \"sceu_organoid\" / \"processed\" / \"eec_markers.csv\")[\"Gene\"].str.lower().tolist()\n",
    "\n",
    "eec_markers = adata.var_names[adata.var_names.str.lower().isin(eec_markers)]"
   ]
  },
  {
   "cell_type": "code",
   "execution_count": 10,
   "metadata": {},
   "outputs": [],
   "source": [
    "eec_progenitor_markers = (\n",
    "    pd.read_csv(DATA_DIR / \"sceu_organoid\" / \"processed\" / \"eec_progenitor_markers.csv\")[\"Gene\"].str.lower().tolist()\n",
    ")\n",
    "\n",
    "eec_progenitor_markers = adata.var_names[adata.var_names.str.lower().isin(eec_progenitor_markers)]"
   ]
  },
  {
   "cell_type": "code",
   "execution_count": 11,
   "metadata": {},
   "outputs": [],
   "source": [
    "enterocyte_markers = (\n",
    "    pd.read_csv(DATA_DIR / \"sceu_organoid\" / \"processed\" / \"enterocyte_markers.csv\")[\"Gene\"].str.lower().tolist()\n",
    ")\n",
    "\n",
    "enterocyte_markers = adata.var_names[adata.var_names.str.lower().isin(enterocyte_markers)]"
   ]
  },
  {
   "cell_type": "code",
   "execution_count": 12,
   "metadata": {},
   "outputs": [],
   "source": [
    "enterocyte_progenitor_markers = (\n",
    "    pd.read_csv(DATA_DIR / \"sceu_organoid\" / \"processed\" / \"enterocyte_progenitor_markers.csv\")[\"Gene\"]\n",
    "    .str.lower()\n",
    "    .tolist()\n",
    ")\n",
    "\n",
    "enterocyte_progenitor_markers = adata.var_names[adata.var_names.str.lower().isin(enterocyte_progenitor_markers)]"
   ]
  },
  {
   "attachments": {},
   "cell_type": "markdown",
   "metadata": {},
   "source": [
    "## Preprocessing"
   ]
  },
  {
   "cell_type": "code",
   "execution_count": 13,
   "metadata": {},
   "outputs": [],
   "source": [
    "markers = {}\n",
    "markers[\"Goblet cells\"] = goblet_markers.union(goblet_regulators).union(goblet_and_paneth_regulators)\n",
    "markers[\"Paneth cells\"] = paneth_markers.union(goblet_and_paneth_regulators)\n",
    "markers[\"Enteroendocrine progenitors\"] = eec_markers.union(eec_progenitor_markers)\n",
    "markers[\"Enterocytes\"] = enterocyte_markers.union(enterocyte_progenitor_markers)"
   ]
  },
  {
   "cell_type": "code",
   "execution_count": 14,
   "metadata": {},
   "outputs": [
    {
     "name": "stdout",
     "output_type": "stream",
     "text": [
      "|-----> retrive data for non-linear dimension reduction...\n",
      "|-----> perform umap...\n",
      "|-----> [dimension_reduction projection] in progress: 100.0000%\n",
      "|-----> [dimension_reduction projection] finished [26.0535s]\n"
     ]
    }
   ],
   "source": [
    "dyn.tl.reduceDimension(adata, layer=\"X_new\", enforce=True)"
   ]
  },
  {
   "attachments": {},
   "cell_type": "markdown",
   "metadata": {},
   "source": [
    "## Least action path analysis"
   ]
  },
  {
   "cell_type": "code",
   "execution_count": 15,
   "metadata": {},
   "outputs": [
    {
     "name": "stdout",
     "output_type": "stream",
     "text": [
      "|-----> retrive data for non-linear dimension reduction...\n",
      "|-----? adata already have basis umap. dimension reduction umap will be skipped! \n",
      "set enforce=True to re-performing dimension reduction.\n",
      "|-----> [dimension_reduction projection] in progress: 100.0000%\n",
      "|-----> [dimension_reduction projection] finished [0.0022s]\n",
      "|-----> 0 genes are removed because of nan velocity values.\n",
      "|-----> [calculating transition matrix via pearson kernel with sqrt transform.] in progress: 100.0000%\n",
      "|-----> [calculating transition matrix via pearson kernel with sqrt transform.] finished [2.4608s]\n",
      "|-----> [projecting velocity vector to low dimensional embedding] in progress: 100.0000%\n",
      "|-----> [projecting velocity vector to low dimensional embedding] finished [0.8680s]\n",
      "|-----> VectorField reconstruction begins...\n",
      "|-----> Retrieve X and V based on basis: UMAP. \n",
      "        Vector field will be learned in the UMAP space.\n",
      "|-----> Generating high dimensional grids and convert into a row matrix.\n",
      "|-----> Learning vector field with method: sparsevfc.\n",
      "|-----> [SparseVFC] begins...\n",
      "|-----> Sampling control points based on data velocity magnitude...\n",
      "|-----> [SparseVFC] in progress: 100.0000%\n",
      "|-----> [SparseVFC] finished [22.5206s]\n",
      "|-----------> current cosine correlation between input velocities and learned velocities is less than 0.6. Make a 1-th vector field reconstruction trial.\n",
      "|-----> [SparseVFC] begins...\n",
      "|-----> Sampling control points based on data velocity magnitude...\n",
      "|-----> [SparseVFC] in progress: 100.0000%\n",
      "|-----> [SparseVFC] finished [23.5246s]\n",
      "|-----------> current cosine correlation between input velocities and learned velocities is less than 0.6. Make a 2-th vector field reconstruction trial.\n",
      "|-----> [SparseVFC] begins...\n",
      "|-----> Sampling control points based on data velocity magnitude...\n",
      "|-----> [SparseVFC] in progress: 100.0000%\n",
      "|-----> [SparseVFC] finished [23.9717s]\n",
      "|-----------> current cosine correlation between input velocities and learned velocities is less than 0.6. Make a 3-th vector field reconstruction trial.\n",
      "|-----> [SparseVFC] begins...\n",
      "|-----> Sampling control points based on data velocity magnitude...\n",
      "|-----> [SparseVFC] in progress: 100.0000%\n",
      "|-----> [SparseVFC] finished [22.9951s]\n",
      "|-----------> current cosine correlation between input velocities and learned velocities is less than 0.6. Make a 4-th vector field reconstruction trial.\n",
      "|-----> [SparseVFC] begins...\n",
      "|-----> Sampling control points based on data velocity magnitude...\n",
      "|-----> [SparseVFC] in progress: 100.0000%\n",
      "|-----> [SparseVFC] finished [22.1381s]\n",
      "|-----------> current cosine correlation between input velocities and learned velocities is less than 0.6. Make a 5-th vector field reconstruction trial.\n",
      "|-----? Cosine correlation between input velocities and learned velocities is less than 0.6 after 5 trials of vector field reconstruction.\n",
      "|-----> <insert> velocity_umap_SparseVFC to obsm in AnnData Object.\n",
      "|-----> <insert> X_umap_SparseVFC to obsm in AnnData Object.\n",
      "|-----> <insert> VecFld_umap to uns in AnnData Object.\n",
      "|-----> <insert> control_point_umap to obs in AnnData Object.\n",
      "|-----> <insert> inlier_prob_umap to obs in AnnData Object.\n",
      "|-----> <insert> obs_vf_angle_umap to obs in AnnData Object.\n",
      "|-----> [VectorField] in progress: 100.0000%\n",
      "|-----> [VectorField] finished [115.3775s]\n"
     ]
    },
    {
     "name": "stderr",
     "output_type": "stream",
     "text": [
      "/vol/storage/miniconda3/envs/dynamo-py39/lib/python3.9/site-packages/scipy/optimize/_minpack_py.py:178: RuntimeWarning: The iteration is not making good progress, as measured by the \n",
      "  improvement from the last ten iterations.\n",
      "  warnings.warn(msg, RuntimeWarning)\n",
      "/vol/storage/miniconda3/envs/dynamo-py39/lib/python3.9/site-packages/scipy/optimize/_minpack_py.py:178: RuntimeWarning: The iteration is not making good progress, as measured by the \n",
      "  improvement from the last five Jacobian evaluations.\n",
      "  warnings.warn(msg, RuntimeWarning)\n"
     ]
    },
    {
     "data": {
      "text/plain": [
       "AnnData object with n_obs × n_vars = 3452 × 2000\n",
       "    obs: 'experiment', 'time', 'cell_type', 'som_cluster_id', 'cell_type_merged', 'initial_size', 'n_counts', 'pass_basic_filter', 'ntr', 'control_point_umap', 'inlier_prob_umap', 'obs_vf_angle_umap'\n",
       "    var: 'ensum_id', 'gene_count_corr', 'means', 'dispersions', 'dispersions_norm', 'highly_variable', 'pass_basic_filter', 'use_for_pca', 'ntr', 'alpha', 'a', 'b', 'alpha_a', 'alpha_i', 'beta', 'p_half_life', 'gamma', 'half_life', 'cost', 'logLL', 'use_for_dynamics', 'use_for_transition'\n",
       "    uns: 'PCs', 'cell_type_colors', 'dynamics', 'neighbors', 'pca', 'pca_fit', 'pca_mean', 'pp', 'umap', 'explained_variance_ratio_', 'pca_valid_ind', 'X_new_neighbors', 'umap_fit', 'grid_velocity_umap', 'VecFld_umap'\n",
       "    obsm: 'X_pca', 'X_umap', 'X_umap_paper', 'X_new_pca', 'X_new_umap', 'velocity_umap', 'velocity_umap_SparseVFC', 'X_umap_SparseVFC'\n",
       "    varm: 'PCs'\n",
       "    layers: 'M_n', 'M_nn', 'M_t', 'M_tn', 'M_tt', 'X_new', 'X_total', 'new', 'total', 'velocity_N', 'velocity_T'\n",
       "    obsp: 'connectivities', 'distances', 'moments_con', 'pearson_transition_matrix'"
      ]
     },
     "execution_count": 15,
     "metadata": {},
     "output_type": "execute_result"
    }
   ],
   "source": [
    "dyn.tl.cell_velocities(adata, ekey=\"M_n\", vkey=\"velocity_N\", enforce=True)\n",
    "dyn.vf.VectorField(adata, basis=\"umap\")\n",
    "dyn.vf.topography(adata)"
   ]
  },
  {
   "cell_type": "code",
   "execution_count": 16,
   "metadata": {},
   "outputs": [],
   "source": [
    "adata.obsm[\"X_pca_orig\"] = adata.obsm[\"X_pca\"].copy()\n",
    "adata.obsm[\"X_pca\"] = adata.obsm[\"X_pca\"][:, :30]"
   ]
  },
  {
   "cell_type": "code",
   "execution_count": 17,
   "metadata": {},
   "outputs": [
    {
     "name": "stdout",
     "output_type": "stream",
     "text": [
      "|-----> retrive data for non-linear dimension reduction...\n",
      "|-----? adata already have basis pca. dimension reduction pca will be skipped! \n",
      "set enforce=True to re-performing dimension reduction.\n",
      "|-----> [dimension_reduction projection] in progress: 100.0000%\n",
      "|-----> [dimension_reduction projection] finished [0.0024s]\n",
      "|-----> 0 genes are removed because of nan velocity values.\n",
      "Using existing pearson_transition_matrix found in .obsp.\n",
      "|-----> [projecting velocity vector to low dimensional embedding] in progress: 100.0000%\n",
      "|-----> [projecting velocity vector to low dimensional embedding] finished [3.4971s]\n",
      "|-----> VectorField reconstruction begins...\n",
      "|-----> Retrieve X and V based on basis: PCA. \n",
      "        Vector field will be learned in the PCA space.\n",
      "|-----> Learning vector field with method: sparsevfc.\n",
      "|-----> [SparseVFC] begins...\n",
      "|-----> Sampling control points based on data velocity magnitude...\n",
      "|-----> [SparseVFC] in progress: 100.0000%\n",
      "|-----> [SparseVFC] finished [3.6416s]\n",
      "|-----> <insert> velocity_pca_SparseVFC to obsm in AnnData Object.\n",
      "|-----> <insert> X_pca_SparseVFC to obsm in AnnData Object.\n",
      "|-----> <insert> VecFld_pca to uns in AnnData Object.\n",
      "|-----> <insert> control_point_pca to obs in AnnData Object.\n",
      "|-----> <insert> inlier_prob_pca to obs in AnnData Object.\n",
      "|-----> <insert> obs_vf_angle_pca to obs in AnnData Object.\n",
      "|-----> [VectorField] in progress: 100.0000%\n",
      "|-----> [VectorField] finished [3.8051s]\n"
     ]
    }
   ],
   "source": [
    "dyn.tl.cell_velocities(adata, ekey=\"M_n\", vkey=\"velocity_N\", basis=\"pca\")\n",
    "dyn.vf.VectorField(adata, basis=\"pca\")"
   ]
  },
  {
   "cell_type": "code",
   "execution_count": 18,
   "metadata": {},
   "outputs": [],
   "source": [
    "df = pd.DataFrame(adata.uns[\"VecFld_umap\"][\"Xss\"], columns=[\"umap_1\", \"umap_2\"])\n",
    "df[\"fixed_point_type\"] = adata.uns[\"VecFld_umap\"][\"ftype\"]\n",
    "df[\"fixed_point_type\"].replace({-1: \"stable\", 0: \"saddle\", 1: \"unstable\"}, inplace=True)\n",
    "\n",
    "neighbor_idx = dyn.tools.utils.nearest_neighbors(df[[\"umap_1\", \"umap_2\"]], adata.obsm[\"X_new_umap\"])\n",
    "df[\"cell_type\"] = [\n",
    "    adata.obs.loc[adata.obs_names[neighbors], \"cell_type\"].mode().values[0] for neighbors in neighbor_idx\n",
    "]\n",
    "\n",
    "initial_obs = dyn.tools.utils.nearest_neighbors(\n",
    "    df.loc[(df[\"fixed_point_type\"] == \"unstable\") & (df[\"cell_type\"] == \"Stem cells\"), [\"umap_1\", \"umap_2\"]].values,\n",
    "    adata.obsm[\"X_new_umap\"],\n",
    "    k=30,\n",
    ").flatten()"
   ]
  },
  {
   "cell_type": "code",
   "execution_count": 19,
   "metadata": {},
   "outputs": [],
   "source": [
    "identified_terminal_states = list(\n",
    "    set(TERMINAL_STATES).intersection(df.loc[df[\"fixed_point_type\"] == \"stable\", \"cell_type\"].unique())\n",
    ")\n",
    "\n",
    "terminal_obs = {}\n",
    "for terminal_state in identified_terminal_states:\n",
    "    terminal_obs[terminal_state] = dyn.tools.utils.nearest_neighbors(\n",
    "        df.loc[(df[\"fixed_point_type\"] == \"stable\") & (df[\"cell_type\"] == terminal_state), [\"umap_1\", \"umap_2\"]].values,\n",
    "        adata.obsm[\"X_new_umap\"],\n",
    "        k=30,\n",
    "    ).flatten()"
   ]
  },
  {
   "cell_type": "code",
   "execution_count": 20,
   "metadata": {},
   "outputs": [
    {
     "name": "stdout",
     "output_type": "stream",
     "text": [
      "|-----> Start computing neighbor graph...\n",
      "|-----------> X_data is None, fetching or recomputing...\n",
      "|-----> fetching X data from layer:None, basis:umap\n",
      "|-----> method arg is None, choosing methods automatically...\n",
      "|-----------> method kd_tree selected\n",
      "|-----> <insert> umap_connectivities to obsp in AnnData Object.\n",
      "|-----> <insert> umap_distances to obsp in AnnData Object.\n",
      "|-----> <insert> umap_neighbors to uns in AnnData Object.\n",
      "|-----> <insert> umap_neighbors.indices to uns in AnnData Object.\n",
      "|-----> <insert> umap_neighbors.params to uns in AnnData Object.\n"
     ]
    },
    {
     "data": {
      "text/plain": [
       "AnnData object with n_obs × n_vars = 3452 × 2000\n",
       "    obs: 'experiment', 'time', 'cell_type', 'som_cluster_id', 'cell_type_merged', 'initial_size', 'n_counts', 'pass_basic_filter', 'ntr', 'control_point_umap', 'inlier_prob_umap', 'obs_vf_angle_umap', 'control_point_pca', 'inlier_prob_pca', 'obs_vf_angle_pca'\n",
       "    var: 'ensum_id', 'gene_count_corr', 'means', 'dispersions', 'dispersions_norm', 'highly_variable', 'pass_basic_filter', 'use_for_pca', 'ntr', 'alpha', 'a', 'b', 'alpha_a', 'alpha_i', 'beta', 'p_half_life', 'gamma', 'half_life', 'cost', 'logLL', 'use_for_dynamics', 'use_for_transition'\n",
       "    uns: 'PCs', 'cell_type_colors', 'dynamics', 'neighbors', 'pca', 'pca_fit', 'pca_mean', 'pp', 'umap', 'explained_variance_ratio_', 'pca_valid_ind', 'X_new_neighbors', 'umap_fit', 'grid_velocity_umap', 'VecFld_umap', 'grid_velocity_pca', 'VecFld_pca', 'umap_neighbors'\n",
       "    obsm: 'X_pca', 'X_umap', 'X_umap_paper', 'X_new_pca', 'X_new_umap', 'velocity_umap', 'velocity_umap_SparseVFC', 'X_umap_SparseVFC', 'X_pca_orig', 'velocity_pca', 'velocity_pca_SparseVFC', 'X_pca_SparseVFC'\n",
       "    varm: 'PCs'\n",
       "    layers: 'M_n', 'M_nn', 'M_t', 'M_tn', 'M_tt', 'X_new', 'X_total', 'new', 'total', 'velocity_N', 'velocity_T'\n",
       "    obsp: 'connectivities', 'distances', 'moments_con', 'pearson_transition_matrix', 'umap_distances', 'umap_connectivities'"
      ]
     },
     "execution_count": 20,
     "metadata": {},
     "output_type": "execute_result"
    }
   ],
   "source": [
    "dyn.tl.neighbors(adata, basis=\"umap\", result_prefix=\"umap\")"
   ]
  },
  {
   "attachments": {},
   "cell_type": "markdown",
   "metadata": {},
   "source": [
    "### Dynamo stable fixed points"
   ]
  },
  {
   "cell_type": "code",
   "execution_count": 21,
   "metadata": {},
   "outputs": [
    {
     "name": "stdout",
     "output_type": "stream",
     "text": [
      "|-----> searching for the least action path...\n",
      "|-----> [iterating through 10 pairs] in progress: 10.0000%|-----------> initializing path with the shortest path in the graph built from the velocity transition matrix...\n",
      "|-----------> optimizing for least action path...\n",
      "|-----> optimal action: 0.043242\n",
      "|-----> [iterating through 10 pairs] in progress: 20.0000%|-----------> initializing path with the shortest path in the graph built from the velocity transition matrix...\n",
      "|-----------> optimizing for least action path...\n",
      "|-----> optimal action: 0.048698\n",
      "|-----> [iterating through 10 pairs] in progress: 30.0000%|-----------> initializing path with the shortest path in the graph built from the velocity transition matrix...\n",
      "|-----------> optimizing for least action path...\n",
      "|-----> optimal action: 0.036693\n",
      "|-----> [iterating through 10 pairs] in progress: 40.0000%|-----------> initializing path with the shortest path in the graph built from the velocity transition matrix...\n",
      "|-----------> optimizing for least action path...\n",
      "|-----> optimal action: 0.054641\n",
      "|-----> [iterating through 10 pairs] in progress: 50.0000%|-----------> initializing path with the shortest path in the graph built from the velocity transition matrix...\n",
      "|-----------> optimizing for least action path...\n",
      "|-----> optimal action: 0.036684\n",
      "|-----> [iterating through 10 pairs] in progress: 60.0000%|-----------> initializing path with the shortest path in the graph built from the velocity transition matrix...\n",
      "|-----------> optimizing for least action path...\n",
      "|-----> optimal action: 0.040760\n",
      "|-----> [iterating through 10 pairs] in progress: 70.0000%|-----------> initializing path with the shortest path in the graph built from the velocity transition matrix...\n",
      "|-----------> optimizing for least action path...\n",
      "|-----> optimal action: 0.052475\n",
      "|-----> [iterating through 10 pairs] in progress: 80.0000%|-----------> initializing path with the shortest path in the graph built from the velocity transition matrix...\n",
      "|-----------> optimizing for least action path...\n",
      "|-----> optimal action: 0.055767\n",
      "|-----> [iterating through 10 pairs] in progress: 90.0000%|-----------> initializing path with the shortest path in the graph built from the velocity transition matrix...\n",
      "|-----------> optimizing for least action path...\n",
      "|-----> optimal action: 0.081662\n",
      "|-----> [iterating through 10 pairs] in progress: 100.0000%|-----------> initializing path with the shortest path in the graph built from the velocity transition matrix...\n",
      "|-----------> optimizing for least action path...\n",
      "|-----> optimal action: 0.043740\n",
      "|-----> [iterating through 10 pairs] in progress: 100.0000%\n",
      "|-----> [iterating through 10 pairs] finished [378.5261s]\n",
      "|-----> [least action path] in progress: 100.0000%\n",
      "|-----> [least action path] finished [378.5285s]\n",
      "|-----> <insert> traj_msd to var in AnnData Object.\n",
      "|-----> <insert> traj_msd to var in AnnData Object.\n"
     ]
    },
    {
     "name": "stderr",
     "output_type": "stream",
     "text": [
      "/vol/storage/miniconda3/envs/dynamo-py39/lib/python3.9/site-packages/dynamo/prediction/trajectory.py:223: SettingWithCopyWarning: \n",
      "A value is trying to be set on a copy of a slice from a DataFrame\n",
      "\n",
      "See the caveats in the documentation: https://pandas.pydata.org/pandas-docs/stable/user_guide/indexing.html#returning-a-view-versus-a-copy\n",
      "  self.adata.var[save_key][self.genes_to_mask()] = msd\n"
     ]
    },
    {
     "name": "stdout",
     "output_type": "stream",
     "text": [
      "|-----> <insert> traj_msd to var in AnnData Object.\n",
      "|-----> <insert> traj_msd to var in AnnData Object.\n",
      "|-----> <insert> traj_msd to var in AnnData Object.\n",
      "|-----> <insert> traj_msd to var in AnnData Object.\n",
      "|-----> <insert> traj_msd to var in AnnData Object.\n",
      "|-----> <insert> traj_msd to var in AnnData Object.\n",
      "|-----> <insert> traj_msd to var in AnnData Object.\n",
      "|-----> <insert> traj_msd to var in AnnData Object.\n"
     ]
    }
   ],
   "source": [
    "gene_ranks = {}\n",
    "\n",
    "for terminal_state in terminal_obs.keys():\n",
    "    rankings = []\n",
    "\n",
    "    lst = list(itertools.product(initial_obs, terminal_obs[terminal_state]))\n",
    "\n",
    "    np.random.seed(0)\n",
    "    state_tuples = np.random.choice(len(lst), size=10, replace=False).tolist()\n",
    "\n",
    "    initial_obs_, terminal_obs_ = zip(*[lst[idx] for idx in state_tuples])\n",
    "\n",
    "    laps = dyn.pd.least_action(\n",
    "        adata,\n",
    "        init_cells=list(initial_obs_),\n",
    "        target_cells=list(terminal_obs_),\n",
    "    )\n",
    "\n",
    "    gtraj = dyn.pd.GeneTrajectory(adata)\n",
    "\n",
    "    for lap_id, lap in enumerate(laps):\n",
    "        gtraj.from_pca(lap.X, t=lap.t)\n",
    "        gtraj.calc_msd()\n",
    "\n",
    "        ranking = dyn.vf.rank_genes(adata, \"traj_msd\")\n",
    "        ranking = ranking.reset_index().rename(columns={\"index\": f\"Corr. rank - {terminal_state}\", \"all\": \"Gene\"})\n",
    "        ranking[\"Algorithm\"] = \"Dynamo\"\n",
    "        ranking[\"Run\"] = lap_id\n",
    "        rankings.append(ranking)\n",
    "\n",
    "    gene_ranks[terminal_state] = pd.concat(rankings)\n",
    "    gene_ranks[terminal_state] = gene_ranks[terminal_state].loc[\n",
    "        gene_ranks[terminal_state][\"Gene\"].isin(markers[terminal_state])\n",
    "    ]"
   ]
  },
  {
   "cell_type": "code",
   "execution_count": 22,
   "metadata": {},
   "outputs": [],
   "source": [
    "for terminal_state in gene_ranks.keys():\n",
    "    gene_ranks[terminal_state].set_index(\"Gene\", inplace=True)\n",
    "    gene_ranks[terminal_state].index.name = None\n",
    "    gene_ranks[terminal_state].to_csv(\n",
    "        DATA_DIR\n",
    "        / \"sceu_organoid\"\n",
    "        / \"results\"\n",
    "        / f\"gene_ranks_{terminal_state}-chase_and_pulse-dynamo_terminal_states-dynamo.csv\"\n",
    "    )"
   ]
  },
  {
   "attachments": {},
   "cell_type": "markdown",
   "metadata": {},
   "source": [
    "### CellRank terminal states"
   ]
  },
  {
   "cell_type": "code",
   "execution_count": 23,
   "metadata": {},
   "outputs": [],
   "source": [
    "cr_terminal_states = pd.read_csv(\n",
    "    DATA_DIR / \"sceu_organoid\" / \"results\" / \"cr_terminal_states.csv\", index_col=0\n",
    ").reset_index(drop=True)[\"terminal_state\"]\n",
    "terminal_obs = {\n",
    "    terminal_state: cr_terminal_states.index[cr_terminal_states == terminal_state].to_numpy()\n",
    "    for terminal_state in cr_terminal_states.astype(\"category\").cat.categories\n",
    "}"
   ]
  },
  {
   "cell_type": "code",
   "execution_count": 24,
   "metadata": {},
   "outputs": [
    {
     "name": "stdout",
     "output_type": "stream",
     "text": [
      "|-----> searching for the least action path...\n",
      "|-----> [iterating through 10 pairs] in progress: 10.0000%|-----------> initializing path with the shortest path in the graph built from the velocity transition matrix...\n",
      "|-----------> optimizing for least action path...\n",
      "|-----> optimal action: 0.056222\n",
      "|-----> [iterating through 10 pairs] in progress: 20.0000%|-----------> initializing path with the shortest path in the graph built from the velocity transition matrix...\n",
      "|-----------> optimizing for least action path...\n",
      "|-----> optimal action: 0.044589\n",
      "|-----> [iterating through 10 pairs] in progress: 30.0000%|-----------> initializing path with the shortest path in the graph built from the velocity transition matrix...\n",
      "|-----------> optimizing for least action path...\n",
      "|-----> optimal action: 0.044448\n",
      "|-----> [iterating through 10 pairs] in progress: 40.0000%|-----------> initializing path with the shortest path in the graph built from the velocity transition matrix...\n",
      "|-----------> optimizing for least action path...\n",
      "|-----> optimal action: 0.058033\n",
      "|-----> [iterating through 10 pairs] in progress: 50.0000%|-----------> initializing path with the shortest path in the graph built from the velocity transition matrix...\n",
      "|-----------> optimizing for least action path...\n",
      "|-----> optimal action: 0.046548\n",
      "|-----> [iterating through 10 pairs] in progress: 60.0000%|-----------> initializing path with the shortest path in the graph built from the velocity transition matrix...\n",
      "|-----------> optimizing for least action path...\n",
      "|-----> optimal action: 0.051713\n",
      "|-----> [iterating through 10 pairs] in progress: 70.0000%|-----------> initializing path with the shortest path in the graph built from the velocity transition matrix...\n",
      "|-----------> optimizing for least action path...\n",
      "|-----> optimal action: 0.087245\n",
      "|-----> [iterating through 10 pairs] in progress: 80.0000%|-----------> initializing path with the shortest path in the graph built from the velocity transition matrix...\n",
      "|-----------> optimizing for least action path...\n",
      "|-----> optimal action: 0.062437\n",
      "|-----> [iterating through 10 pairs] in progress: 90.0000%|-----------> initializing path with the shortest path in the graph built from the velocity transition matrix...\n",
      "|-----------> optimizing for least action path...\n",
      "|-----> optimal action: 0.042019\n",
      "|-----> [iterating through 10 pairs] in progress: 100.0000%|-----------> initializing path with the shortest path in the graph built from the velocity transition matrix...\n",
      "|-----------> optimizing for least action path...\n",
      "|-----> optimal action: 0.053537\n",
      "|-----> [iterating through 10 pairs] in progress: 100.0000%\n",
      "|-----> [iterating through 10 pairs] finished [356.4280s]\n",
      "|-----> [least action path] in progress: 100.0000%\n",
      "|-----> [least action path] finished [356.4302s]\n",
      "|-----> <insert> traj_msd to var in AnnData Object.\n",
      "|-----> <insert> traj_msd to var in AnnData Object.\n"
     ]
    },
    {
     "name": "stderr",
     "output_type": "stream",
     "text": [
      "/vol/storage/miniconda3/envs/dynamo-py39/lib/python3.9/site-packages/dynamo/prediction/trajectory.py:223: SettingWithCopyWarning: \n",
      "A value is trying to be set on a copy of a slice from a DataFrame\n",
      "\n",
      "See the caveats in the documentation: https://pandas.pydata.org/pandas-docs/stable/user_guide/indexing.html#returning-a-view-versus-a-copy\n",
      "  self.adata.var[save_key][self.genes_to_mask()] = msd\n"
     ]
    },
    {
     "name": "stdout",
     "output_type": "stream",
     "text": [
      "|-----> <insert> traj_msd to var in AnnData Object.\n",
      "|-----> <insert> traj_msd to var in AnnData Object.\n",
      "|-----> <insert> traj_msd to var in AnnData Object.\n",
      "|-----> <insert> traj_msd to var in AnnData Object.\n",
      "|-----> <insert> traj_msd to var in AnnData Object.\n",
      "|-----> <insert> traj_msd to var in AnnData Object.\n",
      "|-----> <insert> traj_msd to var in AnnData Object.\n",
      "|-----> <insert> traj_msd to var in AnnData Object.\n",
      "|-----> searching for the least action path...\n",
      "|-----> [iterating through 10 pairs] in progress: 10.0000%|-----------> initializing path with the shortest path in the graph built from the velocity transition matrix...\n",
      "|-----------> optimizing for least action path...\n",
      "|-----> optimal action: 0.039659\n",
      "|-----> [iterating through 10 pairs] in progress: 20.0000%|-----------> initializing path with the shortest path in the graph built from the velocity transition matrix...\n",
      "|-----------> optimizing for least action path...\n",
      "|-----> optimal action: 0.029670\n",
      "|-----> [iterating through 10 pairs] in progress: 30.0000%|-----------> initializing path with the shortest path in the graph built from the velocity transition matrix...\n",
      "|-----------> optimizing for least action path...\n",
      "|-----> optimal action: 0.031246\n",
      "|-----> [iterating through 10 pairs] in progress: 40.0000%|-----------> initializing path with the shortest path in the graph built from the velocity transition matrix...\n",
      "|-----------> optimizing for least action path...\n",
      "|-----> optimal action: 0.024404\n",
      "|-----> [iterating through 10 pairs] in progress: 50.0000%|-----------> initializing path with the shortest path in the graph built from the velocity transition matrix...\n",
      "|-----------> optimizing for least action path...\n",
      "|-----> optimal action: 0.036357\n",
      "|-----> [iterating through 10 pairs] in progress: 60.0000%|-----------> initializing path with the shortest path in the graph built from the velocity transition matrix...\n",
      "|-----------> optimizing for least action path...\n",
      "|-----> optimal action: 0.032059\n",
      "|-----> [iterating through 10 pairs] in progress: 70.0000%|-----------> initializing path with the shortest path in the graph built from the velocity transition matrix...\n",
      "|-----------> optimizing for least action path...\n",
      "|-----> optimal action: 0.026341\n",
      "|-----> [iterating through 10 pairs] in progress: 80.0000%|-----------> initializing path with the shortest path in the graph built from the velocity transition matrix...\n",
      "|-----------> optimizing for least action path...\n",
      "|-----> optimal action: 0.026243\n",
      "|-----> [iterating through 10 pairs] in progress: 90.0000%|-----------> initializing path with the shortest path in the graph built from the velocity transition matrix...\n",
      "|-----------> optimizing for least action path...\n",
      "|-----> optimal action: 0.032776\n",
      "|-----> [iterating through 10 pairs] in progress: 100.0000%|-----------> initializing path with the shortest path in the graph built from the velocity transition matrix...\n",
      "|-----------> optimizing for least action path...\n",
      "|-----> optimal action: 0.022523\n",
      "|-----> [iterating through 10 pairs] in progress: 100.0000%\n",
      "|-----> [iterating through 10 pairs] finished [265.2149s]\n",
      "|-----> [least action path] in progress: 100.0000%\n",
      "|-----> [least action path] finished [265.2174s]\n",
      "|-----> <insert> traj_msd to var in AnnData Object.\n",
      "|-----> <insert> traj_msd to var in AnnData Object.\n"
     ]
    },
    {
     "name": "stderr",
     "output_type": "stream",
     "text": [
      "/vol/storage/miniconda3/envs/dynamo-py39/lib/python3.9/site-packages/dynamo/prediction/trajectory.py:223: SettingWithCopyWarning: \n",
      "A value is trying to be set on a copy of a slice from a DataFrame\n",
      "\n",
      "See the caveats in the documentation: https://pandas.pydata.org/pandas-docs/stable/user_guide/indexing.html#returning-a-view-versus-a-copy\n",
      "  self.adata.var[save_key][self.genes_to_mask()] = msd\n"
     ]
    },
    {
     "name": "stdout",
     "output_type": "stream",
     "text": [
      "|-----> <insert> traj_msd to var in AnnData Object.\n",
      "|-----> <insert> traj_msd to var in AnnData Object.\n",
      "|-----> <insert> traj_msd to var in AnnData Object.\n",
      "|-----> <insert> traj_msd to var in AnnData Object.\n",
      "|-----> <insert> traj_msd to var in AnnData Object.\n",
      "|-----> <insert> traj_msd to var in AnnData Object.\n",
      "|-----> <insert> traj_msd to var in AnnData Object.\n",
      "|-----> <insert> traj_msd to var in AnnData Object.\n",
      "|-----> searching for the least action path...\n",
      "|-----> [iterating through 10 pairs] in progress: 10.0000%|-----------> initializing path with the shortest path in the graph built from the velocity transition matrix...\n",
      "|-----------> optimizing for least action path...\n",
      "|-----> optimal action: 0.040390\n",
      "|-----> [iterating through 10 pairs] in progress: 20.0000%|-----------> initializing path with the shortest path in the graph built from the velocity transition matrix...\n",
      "|-----------> optimizing for least action path...\n",
      "|-----> optimal action: 0.036268\n",
      "|-----> [iterating through 10 pairs] in progress: 30.0000%|-----------> initializing path with the shortest path in the graph built from the velocity transition matrix...\n",
      "|-----------> optimizing for least action path...\n",
      "|-----> optimal action: 0.039184\n",
      "|-----> [iterating through 10 pairs] in progress: 40.0000%|-----------> initializing path with the shortest path in the graph built from the velocity transition matrix...\n",
      "|-----------> optimizing for least action path...\n",
      "|-----> optimal action: 0.026063\n",
      "|-----> [iterating through 10 pairs] in progress: 50.0000%|-----------> initializing path with the shortest path in the graph built from the velocity transition matrix...\n",
      "|-----------> optimizing for least action path...\n",
      "|-----> optimal action: 0.028168\n",
      "|-----> [iterating through 10 pairs] in progress: 60.0000%|-----------> initializing path with the shortest path in the graph built from the velocity transition matrix...\n",
      "|-----------> optimizing for least action path...\n",
      "|-----> optimal action: 0.014053\n",
      "|-----> [iterating through 10 pairs] in progress: 70.0000%|-----------> initializing path with the shortest path in the graph built from the velocity transition matrix...\n",
      "|-----------> optimizing for least action path...\n",
      "|-----> optimal action: 0.042330\n",
      "|-----> [iterating through 10 pairs] in progress: 80.0000%|-----------> initializing path with the shortest path in the graph built from the velocity transition matrix...\n",
      "|-----------> optimizing for least action path...\n",
      "|-----> optimal action: 0.025680\n",
      "|-----> [iterating through 10 pairs] in progress: 90.0000%|-----------> initializing path with the shortest path in the graph built from the velocity transition matrix...\n",
      "|-----------> optimizing for least action path...\n",
      "|-----> optimal action: 0.020968\n",
      "|-----> [iterating through 10 pairs] in progress: 100.0000%|-----------> initializing path with the shortest path in the graph built from the velocity transition matrix...\n",
      "|-----------> optimizing for least action path...\n",
      "|-----> optimal action: 0.026264\n",
      "|-----> [iterating through 10 pairs] in progress: 100.0000%\n",
      "|-----> [iterating through 10 pairs] finished [236.9429s]\n",
      "|-----> [least action path] in progress: 100.0000%\n",
      "|-----> [least action path] finished [236.9447s]\n",
      "|-----> <insert> traj_msd to var in AnnData Object.\n",
      "|-----> <insert> traj_msd to var in AnnData Object.\n"
     ]
    },
    {
     "name": "stderr",
     "output_type": "stream",
     "text": [
      "/vol/storage/miniconda3/envs/dynamo-py39/lib/python3.9/site-packages/dynamo/prediction/trajectory.py:223: SettingWithCopyWarning: \n",
      "A value is trying to be set on a copy of a slice from a DataFrame\n",
      "\n",
      "See the caveats in the documentation: https://pandas.pydata.org/pandas-docs/stable/user_guide/indexing.html#returning-a-view-versus-a-copy\n",
      "  self.adata.var[save_key][self.genes_to_mask()] = msd\n"
     ]
    },
    {
     "name": "stdout",
     "output_type": "stream",
     "text": [
      "|-----> <insert> traj_msd to var in AnnData Object.\n",
      "|-----> <insert> traj_msd to var in AnnData Object.\n",
      "|-----> <insert> traj_msd to var in AnnData Object.\n",
      "|-----> <insert> traj_msd to var in AnnData Object.\n",
      "|-----> <insert> traj_msd to var in AnnData Object.\n",
      "|-----> <insert> traj_msd to var in AnnData Object.\n",
      "|-----> <insert> traj_msd to var in AnnData Object.\n",
      "|-----> <insert> traj_msd to var in AnnData Object.\n",
      "|-----> searching for the least action path...\n",
      "|-----> [iterating through 10 pairs] in progress: 10.0000%|-----------> initializing path with the shortest path in the graph built from the velocity transition matrix...\n",
      "|-----------> optimizing for least action path...\n",
      "|-----> optimal action: 0.024865\n",
      "|-----> [iterating through 10 pairs] in progress: 20.0000%|-----------> initializing path with the shortest path in the graph built from the velocity transition matrix...\n",
      "|-----------> optimizing for least action path...\n",
      "|-----> optimal action: 0.024610\n",
      "|-----> [iterating through 10 pairs] in progress: 30.0000%|-----------> initializing path with the shortest path in the graph built from the velocity transition matrix...\n",
      "|-----------> optimizing for least action path...\n",
      "|-----> optimal action: 0.019792\n",
      "|-----> [iterating through 10 pairs] in progress: 40.0000%|-----------> initializing path with the shortest path in the graph built from the velocity transition matrix...\n",
      "|-----------> optimizing for least action path...\n",
      "|-----> optimal action: 0.021137\n",
      "|-----> [iterating through 10 pairs] in progress: 50.0000%|-----------> initializing path with the shortest path in the graph built from the velocity transition matrix...\n",
      "|-----------> optimizing for least action path...\n",
      "|-----> optimal action: 0.022025\n",
      "|-----> [iterating through 10 pairs] in progress: 60.0000%|-----------> initializing path with the shortest path in the graph built from the velocity transition matrix...\n",
      "|-----------> optimizing for least action path...\n",
      "|-----> optimal action: 0.023605\n",
      "|-----> [iterating through 10 pairs] in progress: 70.0000%|-----------> initializing path with the shortest path in the graph built from the velocity transition matrix...\n",
      "|-----------> optimizing for least action path...\n",
      "|-----> optimal action: 0.022567\n",
      "|-----> [iterating through 10 pairs] in progress: 80.0000%|-----------> initializing path with the shortest path in the graph built from the velocity transition matrix...\n",
      "|-----------> optimizing for least action path...\n",
      "|-----> optimal action: 0.042867\n",
      "|-----> [iterating through 10 pairs] in progress: 90.0000%|-----------> initializing path with the shortest path in the graph built from the velocity transition matrix...\n",
      "|-----------> optimizing for least action path...\n",
      "|-----> optimal action: 0.024776\n",
      "|-----> [iterating through 10 pairs] in progress: 100.0000%|-----------> initializing path with the shortest path in the graph built from the velocity transition matrix...\n",
      "|-----------> optimizing for least action path...\n",
      "|-----> optimal action: 0.013294\n",
      "|-----> [iterating through 10 pairs] in progress: 100.0000%\n",
      "|-----> [iterating through 10 pairs] finished [281.3232s]\n",
      "|-----> [least action path] in progress: 100.0000%\n",
      "|-----> [least action path] finished [281.3252s]\n",
      "|-----> <insert> traj_msd to var in AnnData Object.\n",
      "|-----> <insert> traj_msd to var in AnnData Object.\n"
     ]
    },
    {
     "name": "stderr",
     "output_type": "stream",
     "text": [
      "/vol/storage/miniconda3/envs/dynamo-py39/lib/python3.9/site-packages/dynamo/prediction/trajectory.py:223: SettingWithCopyWarning: \n",
      "A value is trying to be set on a copy of a slice from a DataFrame\n",
      "\n",
      "See the caveats in the documentation: https://pandas.pydata.org/pandas-docs/stable/user_guide/indexing.html#returning-a-view-versus-a-copy\n",
      "  self.adata.var[save_key][self.genes_to_mask()] = msd\n"
     ]
    },
    {
     "name": "stdout",
     "output_type": "stream",
     "text": [
      "|-----> <insert> traj_msd to var in AnnData Object.\n",
      "|-----> <insert> traj_msd to var in AnnData Object.\n",
      "|-----> <insert> traj_msd to var in AnnData Object.\n",
      "|-----> <insert> traj_msd to var in AnnData Object.\n",
      "|-----> <insert> traj_msd to var in AnnData Object.\n",
      "|-----> <insert> traj_msd to var in AnnData Object.\n",
      "|-----> <insert> traj_msd to var in AnnData Object.\n",
      "|-----> <insert> traj_msd to var in AnnData Object.\n"
     ]
    }
   ],
   "source": [
    "gene_ranks = {}\n",
    "\n",
    "for terminal_state in terminal_obs.keys():\n",
    "    rankings = []\n",
    "\n",
    "    lst = list(itertools.product(initial_obs, terminal_obs[terminal_state]))\n",
    "\n",
    "    np.random.seed(0)\n",
    "    state_tuples = np.random.choice(len(lst), size=10, replace=False).tolist()\n",
    "\n",
    "    initial_obs_, terminal_obs_ = zip(*[lst[idx] for idx in state_tuples])\n",
    "\n",
    "    laps = dyn.pd.least_action(\n",
    "        adata,\n",
    "        init_cells=list(initial_obs_),\n",
    "        target_cells=list(terminal_obs_),\n",
    "    )\n",
    "\n",
    "    gtraj = dyn.pd.GeneTrajectory(adata)\n",
    "\n",
    "    for lap_id, lap in enumerate(laps):\n",
    "        gtraj.from_pca(lap.X, t=lap.t)\n",
    "        gtraj.calc_msd()\n",
    "\n",
    "        ranking = dyn.vf.rank_genes(adata, \"traj_msd\")\n",
    "        ranking = ranking.reset_index().rename(columns={\"index\": f\"Corr. rank - {terminal_state}\", \"all\": \"Gene\"})\n",
    "        ranking[\"Algorithm\"] = \"Dynamo\"\n",
    "        ranking[\"Run\"] = lap_id\n",
    "        rankings.append(ranking)\n",
    "\n",
    "    gene_ranks[terminal_state] = pd.concat(rankings)\n",
    "    gene_ranks[terminal_state] = gene_ranks[terminal_state].loc[\n",
    "        gene_ranks[terminal_state][\"Gene\"].isin(markers[terminal_state])\n",
    "    ]"
   ]
  },
  {
   "cell_type": "code",
   "execution_count": 25,
   "metadata": {},
   "outputs": [],
   "source": [
    "for terminal_state in gene_ranks.keys():\n",
    "    gene_ranks[terminal_state].set_index(\"Gene\", inplace=True)\n",
    "    gene_ranks[terminal_state].index.name = None\n",
    "    gene_ranks[terminal_state].to_csv(\n",
    "        DATA_DIR\n",
    "        / \"sceu_organoid\"\n",
    "        / \"results\"\n",
    "        / f\"gene_ranks_{terminal_state}-chase_and_pulse-cr_terminal_states-dynamo.csv\"\n",
    "    )"
   ]
  }
 ],
 "metadata": {
  "kernelspec": {
   "display_name": "dynamo-py39",
   "language": "python",
   "name": "dynamo-py39"
  },
  "language_info": {
   "codemirror_mode": {
    "name": "ipython",
    "version": 3
   },
   "file_extension": ".py",
   "mimetype": "text/x-python",
   "name": "python",
   "nbconvert_exporter": "python",
   "pygments_lexer": "ipython3",
   "version": "3.9.16"
  }
 },
 "nbformat": 4,
 "nbformat_minor": 2
}
